{
 "cells": [
  {
   "cell_type": "markdown",
   "metadata": {
    "deletable": true,
    "editable": true
   },
   "source": [
    "### All magnitudes from SIMBAD"
   ]
  },
  {
   "cell_type": "code",
   "execution_count": 5,
   "metadata": {
    "collapsed": false,
    "deletable": true,
    "editable": true
   },
   "outputs": [],
   "source": [
    "import json\n",
    "\n",
    "trappist1 = dict( \n",
    "V = 18.798, \n",
    "R = 16.466, \n",
    "I = 14.024, \n",
    "J = 11.354, \n",
    "H = 10.718, \n",
    "K = 10.296)\n",
    "\n",
    "kepler296 = dict(\n",
    "J = 13.391, \n",
    "H = 12.81 , \n",
    "K = 12.600)\n",
    "\n",
    "kepler62 = dict(\n",
    "B = 14.4,\n",
    "V = 13.8,\n",
    "J = 12.256,\n",
    "H = 11.739,\n",
    "K = 11.659)\n",
    "\n",
    "mags = {'Kepler-62': kepler62, \n",
    "        'Kepler-296': kepler296, \n",
    "        'TRAPPIST-1': trappist1}\n",
    "\n",
    "json.dump(mags, open('../libra/data/mags.json', 'w'), indent=4)"
   ]
  },
  {
   "cell_type": "code",
   "execution_count": null,
   "metadata": {
    "collapsed": true,
    "deletable": true,
    "editable": true
   },
   "outputs": [],
   "source": []
  }
 ],
 "metadata": {
  "kernelspec": {
   "display_name": "Python 3",
   "language": "python",
   "name": "python3"
  },
  "language_info": {
   "codemirror_mode": {
    "name": "ipython",
    "version": 3
   },
   "file_extension": ".py",
   "mimetype": "text/x-python",
   "name": "python",
   "nbconvert_exporter": "python",
   "pygments_lexer": "ipython3",
   "version": "3.5.4"
  }
 },
 "nbformat": 4,
 "nbformat_minor": 0
}
