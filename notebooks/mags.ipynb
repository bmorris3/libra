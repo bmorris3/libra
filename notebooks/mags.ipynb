{
 "cells": [
  {
   "cell_type": "markdown",
   "metadata": {},
   "source": [
    "### All magnitudes from SIMBAD"
   ]
  },
  {
   "cell_type": "code",
   "execution_count": 3,
   "metadata": {
    "collapsed": false
   },
   "outputs": [],
   "source": [
    "import json\n",
    "\n",
    "trappist1 = dict( \n",
    "V = 18.798, \n",
    "R = 16.466, \n",
    "I = 14.024, \n",
    "J = 11.354, \n",
    "H = 10.718, \n",
    "K = 10.296)\n",
    "\n",
    "kepler296 = dict(\n",
    "J = 13.391, \n",
    "H = 12.81 , \n",
    "K = 12.600)\n",
    "\n",
    "kepler62 = dict(\n",
    "B = 14.4,\n",
    "V = 13.8,\n",
    "J = 12.256,\n",
    "H = 11.739,\n",
    "K = 11.659)\n",
    "\n",
    "mags = dict(kepler62=kepler62, kepler296=kepler296, trappist1=trappist1)\n",
    "\n",
    "json.dump(mags, open('../libra/data/mags.json', 'w'), indent=4)"
   ]
  },
  {
   "cell_type": "code",
   "execution_count": null,
   "metadata": {
    "collapsed": true
   },
   "outputs": [],
   "source": []
  }
 ],
 "metadata": {
  "kernelspec": {
   "display_name": "Python 3",
   "language": "python",
   "name": "python3"
  },
  "language_info": {
   "codemirror_mode": {
    "name": "ipython",
    "version": 3
   },
   "file_extension": ".py",
   "mimetype": "text/x-python",
   "name": "python",
   "nbconvert_exporter": "python",
   "pygments_lexer": "ipython3",
   "version": "3.5.4"
  }
 },
 "nbformat": 4,
 "nbformat_minor": 0
}
