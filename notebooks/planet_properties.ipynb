{
 "cells": [
  {
   "cell_type": "markdown",
   "metadata": {
    "deletable": true,
    "editable": true
   },
   "source": [
    "# Build JSON table of planet properties\n",
    "\n",
    "for use by `batman` package (and others) with data from the NASA Exoplanet Archive and the Exoplanet Orbit Database."
   ]
  },
  {
   "cell_type": "code",
   "execution_count": 78,
   "metadata": {
    "collapsed": false,
    "deletable": true,
    "editable": true
   },
   "outputs": [],
   "source": [
    "%matplotlib inline\n",
    "from astroquery.exoplanet_orbit_database import ExoplanetOrbitDatabase\n",
    "from astroquery.nasa_exoplanet_archive import NasaExoplanetArchive\n",
    "from astropy.constants import G\n",
    "import numpy as np\n",
    "\n",
    "stars = ['Kepler-62', 'Kepler-296', 'TRAPPIST-1']\n",
    "teffs = [4926, 3526, 2559]\n",
    "limb_darkening = [[0.1082, 0.1483], [0.125, 0.337], [0.10, 0.57]]\n",
    "ld_ref = ['spitzer3.5_claret2013', 'H_claret1995', 'I_gillon2016']\n",
    "planet_lists = [list('bcdef'), list('bcdef'), list('bcdefgh')]"
   ]
  },
  {
   "cell_type": "code",
   "execution_count": 81,
   "metadata": {
    "collapsed": false,
    "deletable": true,
    "editable": true
   },
   "outputs": [],
   "source": [
    "# t0, per, rp, a, inc, ecc, w, limb_dark, u\n",
    "\n",
    "def keplers_third(row): \n",
    "    \"\"\"\n",
    "    Given an orbital period and stellar mass, return semimajor axis\n",
    "    in units of stellar radii\n",
    "    \"\"\"\n",
    "    a = (row['pl_orbper']**2 * G*row['st_mass']/4/np.pi**2)**(1/3)\n",
    "    return (a/row['st_rad']).decompose().value\n",
    "\n",
    "planet_properties = dict()\n",
    "\n",
    "for star, planet_list, ld in zip(stars, planet_lists, limb_darkening):\n",
    "    planet_dict = dict()\n",
    "    for planet in planet_list: \n",
    "        planet_identifier = \"{0} {1}\".format(star, planet)\n",
    "        try: \n",
    "            eod = ExoplanetOrbitDatabase.query_planet(planet_identifier)\n",
    "            t0 = eod['TT']\n",
    "        except KeyError: \n",
    "            t0 = 0\n",
    "\n",
    "        nea = NasaExoplanetArchive.query_planet(planet_identifier)\n",
    "    \n",
    "        planet_radius = nea['pl_radj']\n",
    "        stellar_radius = nea['st_rad']\n",
    "        rp = (planet_radius/stellar_radius).decompose().value\n",
    "        ecc = nea['pl_orbeccen']\n",
    "\n",
    "        if hasattr(ecc, 'value'):\n",
    "            ecc = ecc.value\n",
    "        else: \n",
    "            ecc = 0\n",
    "        \n",
    "        props = dict(per=nea['pl_orbper'].value, t0=t0, rp=rp, a=keplers_third(nea), \n",
    "                     inc=nea['pl_orbincl'].value, ecc=ecc, w=90, \n",
    "                     limb_dark='quadratic', u=ld)\n",
    "        planet_dict[planet] = props\n",
    "    planet_properties[star] = planet_dict"
   ]
  },
  {
   "cell_type": "code",
   "execution_count": 82,
   "metadata": {
    "collapsed": true
   },
   "outputs": [],
   "source": [
    "planet_properties['TRAPPIST-1']['e'] = 2450000 + 7660.37859 # Gillon 2017\n",
    "planet_properties['TRAPPIST-1']['f'] = 2450000 + 7671.39767 # Gillon 2017\n",
    "planet_properties['TRAPPIST-1']['g'] = 2450000 + 7665.34937 # Gillon 2017\n",
    "planet_properties['TRAPPIST-1']['h'] = 2457662.55284 # Luger 2017"
   ]
  },
  {
   "cell_type": "code",
   "execution_count": 83,
   "metadata": {
    "collapsed": false,
    "deletable": true,
    "editable": true
   },
   "outputs": [],
   "source": [
    "import json\n",
    "import os\n",
    "\n",
    "systems_path = '../libra/data/systems.json'\n",
    "\n",
    "overwrite = False\n",
    "if not os.path.exists(systems_path) or overwrite:\n",
    "    json.dump(planet_properties, open(systems_path, 'w'), \n",
    "              indent=4)"
   ]
  },
  {
   "cell_type": "code",
   "execution_count": null,
   "metadata": {
    "collapsed": true
   },
   "outputs": [],
   "source": []
  }
 ],
 "metadata": {
  "kernelspec": {
   "display_name": "Python 3",
   "language": "python",
   "name": "python3"
  },
  "language_info": {
   "codemirror_mode": {
    "name": "ipython",
    "version": 3
   },
   "file_extension": ".py",
   "mimetype": "text/x-python",
   "name": "python",
   "nbconvert_exporter": "python",
   "pygments_lexer": "ipython3",
   "version": "3.5.4"
  }
 },
 "nbformat": 4,
 "nbformat_minor": 0
}
