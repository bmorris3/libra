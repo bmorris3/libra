{
 "cells": [
  {
   "cell_type": "code",
   "execution_count": 1,
   "metadata": {
    "collapsed": true,
    "deletable": true,
    "editable": true
   },
   "outputs": [],
   "source": [
    "%matplotlib inline\n",
    "%config IPython.matplotlib.backend = \"retina\"\n",
    "import matplotlib.pyplot as plt\n",
    "import numpy as np\n",
    "import sys\n",
    "import astropy.units as u\n",
    "from astropy.io import ascii, fits\n",
    "from astropy.modeling.blackbody import blackbody_lambda\n",
    "\n",
    "sys.path.insert(0, '../')\n",
    "from libra import Spot, Star"
   ]
  },
  {
   "cell_type": "code",
   "execution_count": 14,
   "metadata": {
    "collapsed": false,
    "deletable": true,
    "editable": true
   },
   "outputs": [
    {
     "data": {
      "text/plain": [
       "[<matplotlib.lines.Line2D at 0x11b3fa470>]"
      ]
     },
     "execution_count": 14,
     "metadata": {},
     "output_type": "execute_result"
    },
    {
     "data": {
      "image/png": "[encoded data removed]",
      "text/plain": [
       "<matplotlib.figure.Figure at 0x11b3ff6d8>"
      ]
     },
     "metadata": {},
     "output_type": "display_data"
    }
   ],
   "source": [
    "times = np.arange(0, 3.3, 0.1)\n",
    "\n",
    "contrasts = [0.1, 0.5]\n",
    "\n",
    "spots = [Spot.from_latlon(0, 330, 0.02, contrast=10), \n",
    "         Spot.from_latlon(0, 50, 0.008, contrast=10), \n",
    "         Spot.from_latlon(0, 210, 0.008, contrast=10)]\n",
    "\n",
    "star = Star(rotation_period=3.3*u.day, spots=spots)\n",
    "fluxes1 = star.flux(times)\n",
    "fluxes1 /= np.median(fluxes1)\n",
    "\n",
    "\n",
    "spots = [Spot.from_latlon(0, 330, 0.02, contrast=2), \n",
    "         Spot.from_latlon(0, 50, 0.008, contrast=2), \n",
    "         Spot.from_latlon(0, 210, 0.008, contrast=2)]\n",
    "\n",
    "star = Star(rotation_period=3.3*u.day, spots=spots)\n",
    "fluxes2 = star.flux(times)\n",
    "fluxes2 /= np.median(fluxes2)\n",
    "\n",
    "plt.plot(times, fluxes1)\n",
    "plt.plot(times, fluxes2)\n",
    "\n",
    "#plt.plot(times, (fluxes1 - np.median(fluxes1)) * 0.5/0.1) \n",
    "\n"
   ]
  },
  {
   "cell_type": "code",
   "execution_count": null,
   "metadata": {
    "collapsed": true,
    "deletable": true,
    "editable": true
   },
   "outputs": [],
   "source": []
  }
 ],
 "metadata": {
  "kernelspec": {
   "display_name": "Python 3",
   "language": "python",
   "name": "python3"
  },
  "language_info": {
   "codemirror_mode": {
    "name": "ipython",
    "version": 3
   },
   "file_extension": ".py",
   "mimetype": "text/x-python",
   "name": "python",
   "nbconvert_exporter": "python",
   "pygments_lexer": "ipython3",
   "version": "3.5.4"
  }
 },
 "nbformat": 4,
 "nbformat_minor": 0
}
