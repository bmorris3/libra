{
 "cells": [
  {
   "cell_type": "code",
   "execution_count": 1,
   "metadata": {
    "collapsed": true,
    "deletable": true,
    "editable": true
   },
   "outputs": [],
   "source": [
    "%matplotlib inline\n",
    "%config InlineBackend.figure_format = 'retina'\n",
    "import matplotlib.pyplot as plt\n",
    "import numpy as np\n",
    "import astropy.units as u\n",
    "import emcee\n",
    "import os\n",
    "\n",
    "import sys\n",
    "sys.path.insert(0, '../')"
   ]
  },
  {
   "cell_type": "code",
   "execution_count": 2,
   "metadata": {
    "collapsed": false,
    "deletable": true,
    "editable": true
   },
   "outputs": [
    {
     "name": "stderr",
     "output_type": "stream",
     "text": [
      "/Users/bmmorris/anaconda/lib/python3.5/site-packages/ipykernel/__main__.py:47: RuntimeWarning: invalid value encountered in double_scalars\n"
     ]
    }
   ],
   "source": [
    "from libra import (IRTFTemplate, magnitudes, \n",
    "                   nirspec_pixel_wavelengths, throughput, kepler62, \n",
    "                   background, poisson, transit_model, transit_duration)\n",
    "from copy import deepcopy\n",
    "from corner import corner\n",
    "\n",
    "\n",
    "sptype = 'K2V'\n",
    "mag = magnitudes['Kepler-62']['J']\n",
    "exptime = 100*u.s\n",
    "name = 'kepler62'\n",
    "planets = list('bcdef')\n",
    "system = kepler62\n",
    "\n",
    "for planet in planets:\n",
    "    results_dir = os.path.join('posteriors', name)\n",
    "    \n",
    "    if not os.path.exists(results_dir):\n",
    "        os.mkdir(results_dir)\n",
    "        \n",
    "    planet_params = system(planet)\n",
    "    \n",
    "    duration = transit_duration(planet_params)\n",
    "\n",
    "    if np.isnan(duration):\n",
    "        duration = 2/24\n",
    "    \n",
    "    times = np.arange(planet_params.t0 - 2*duration, \n",
    "                      planet_params.t0 + 2*duration, \n",
    "                      exptime.to(u.day).value)\n",
    "    \n",
    "    spectrum_photo = IRTFTemplate(sptype)\n",
    "    transit = transit_model(times, planet_params)\n",
    "    wl = nirspec_pixel_wavelengths()\n",
    "    fluxes = np.zeros((len(times), len(wl)))\n",
    "\n",
    "    for i in range(len(times)):\n",
    "        fluxes[i, :] = poisson(spectrum_photo.n_photons(wl, exptime, mag) * transit[i] * \n",
    "                               throughput(wl) + background(wl, exptime))\n",
    "\n",
    "    spectral_fluxes = np.sum(fluxes, axis=1)\n",
    "    t, f, e = times, spectral_fluxes, np.sqrt(spectral_fluxes)\n",
    "\n",
    "    def model(p, t, init_params):\n",
    "        trial_params = deepcopy(init_params)\n",
    "        trial_params.t0 = p[0]\n",
    "        trial_params.rp = p[1]**0.5\n",
    "        return p[2] * transit_model(t, trial_params)\n",
    "\n",
    "    def lnlikelihood(p, t, init_params):\n",
    "        return -0.5 * np.nansum((model(p, t, init_params) - f)**2 / e**2)\n",
    "\n",
    "    def lnprior(p, t, init_params):\n",
    "        t0, depth, amp = p\n",
    "        if ((init_params.t0 - 0.1 < t0 < init_params.t0 + 0.1) and\n",
    "            ((0.5 * init_params.rp)**2 < depth < (1.5 * init.params.rp)**2) and \n",
    "            (0.999 * np.median(f) < amp < 1.001 * np.median(f))):\n",
    "            return 0.0\n",
    "        return -np.inf\n",
    "\n",
    "    ndim, nwalkers = 3, 6\n",
    "\n",
    "    init_p = np.array([planet_params.t0, planet_params.rp**2, np.median(f)])\n",
    "    pos = [init_p + 1e-4*np.random.randn(ndim) for i in range(nwalkers)]\n",
    "\n",
    "    sampler = emcee.EnsembleSampler(nwalkers, ndim, lnlikelihood, args=(t, planet_params))\n",
    "    sampler.run_mcmc(pos, 5000);\n",
    "    \n",
    "    old_shape = sampler.chain.shape\n",
    "    new_shape = (old_shape[0] * 2000, ndim)\n",
    "    samples = sampler.chain[:, -2000:, :].reshape(new_shape)\n",
    "    \n",
    "    corner(samples, labels=['time', 'depth', 'f0'])\n",
    "    plt.savefig('posteriors/{0}/{1}.png'.format(name, planet), bbox_inches='tight', dpi=200)\n",
    "    plt.close()\n",
    "    \n",
    "    plt.figure()\n",
    "    for i in np.random.randint(0, samples.shape[0], 100):\n",
    "        step = model(samples[i, :], t, planet_params)\n",
    "        plt.plot(t, step, alpha=0.05, color='k')\n",
    "\n",
    "    #plt.errorbar(t, f, e, fmt='.', color='r')\n",
    "    plt.plot(t, f, '.', color='r')\n",
    "    plt.xlabel('Time [JD]')\n",
    "    plt.ylabel('NIRSpec counts')\n",
    "    plt.title('Assuming only Poisson errors')\n",
    "    plt.savefig('posteriors/{0}/lightcurve_{1}.png'.format(name, planet), bbox_inches='tight', dpi=200)\n",
    "    \n",
    "    t0_mcmc, depth_mcmc, amp_mcmc = map(lambda v: (v[1], v[2]-v[1], v[1]-v[0]),\n",
    "                                        zip(*np.percentile(sampler.flatchain[5000:, :], [16, 50, 84],\n",
    "                                                           axis=0)))\n",
    "    np.savetxt('posteriors/{0}/time_solution_{1}.txt'.format(name, planet), t0_mcmc)\n",
    "    plt.close()"
   ]
  },
  {
   "cell_type": "code",
   "execution_count": 3,
   "metadata": {
    "collapsed": false,
    "deletable": true,
    "editable": true
   },
   "outputs": [
    {
     "name": "stdout",
     "output_type": "stream",
     "text": [
      "planet b t_rms: 13.67 s\n",
      "planet c t_rms: 570.87 s\n",
      "planet d t_rms: 11.90 s\n",
      "planet e t_rms: 20.74 s\n",
      "planet f t_rms: 28.79 s\n"
     ]
    }
   ],
   "source": [
    "for planet in list('bcdef'):\n",
    "    mid, upper, lower = np.loadtxt('posteriors/{0}/time_solution_{1}.txt'.format(name, planet), unpack=True)\n",
    "    \n",
    "    print(\"planet {0} t_rms: {1:.2f}\".format(planet, ((0.5 * (upper + lower))*u.day).to(u.s)))"
   ]
  },
  {
   "cell_type": "code",
   "execution_count": null,
   "metadata": {
    "collapsed": true,
    "deletable": true,
    "editable": true
   },
   "outputs": [],
   "source": []
  }
 ],
 "metadata": {
  "kernelspec": {
   "display_name": "Python 3",
   "language": "python",
   "name": "python3"
  },
  "language_info": {
   "codemirror_mode": {
    "name": "ipython",
    "version": 3
   },
   "file_extension": ".py",
   "mimetype": "text/x-python",
   "name": "python",
   "nbconvert_exporter": "python",
   "pygments_lexer": "ipython3",
   "version": "3.5.4"
  }
 },
 "nbformat": 4,
 "nbformat_minor": 0
}
