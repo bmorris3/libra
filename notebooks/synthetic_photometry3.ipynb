{
 "cells": [
  {
   "cell_type": "code",
   "execution_count": 1,
   "metadata": {
    "collapsed": true,
    "deletable": true,
    "editable": true
   },
   "outputs": [],
   "source": [
    "%matplotlib inline\n",
    "%config IPython.matplotlib.backend = \"retina\"\n",
    "import matplotlib.pyplot as plt\n",
    "import numpy as np\n",
    "import sys\n",
    "import astropy.units as u\n",
    "from astropy.io import ascii, fits"
   ]
  },
  {
   "cell_type": "code",
   "execution_count": 30,
   "metadata": {
    "collapsed": false,
    "deletable": true,
    "editable": true
   },
   "outputs": [
    {
     "name": "stderr",
     "output_type": "stream",
     "text": [
      "WARNING: The following header keyword is invalid or follows an unrecognized non-standard convention:\n",
      " ############################## Xspextool History ############################## [astropy.io.fits.card]\n",
      "WARNING: The following header keyword is invalid or follows an unrecognized non-standard convention:\n",
      " ############################## Xcombspec History ############################## [astropy.io.fits.card]\n",
      "WARNING: The following header keyword is invalid or follows an unrecognized non-standard convention:\n",
      " ############################### Xtellcor History ############################## [astropy.io.fits.card]\n",
      "WARNING: The following header keyword is invalid or follows an unrecognized non-standard convention:\n",
      " ############################# Xmergeorders History ############################ [astropy.io.fits.card]\n",
      "/Users/bmmorris/anaconda/lib/python3.5/site-packages/astropy-3.0.dev19880-py3.5-macosx-10.6-x86_64.egg/astropy/units/quantity.py:641: RuntimeWarning: invalid value encountered in less\n",
      "  *arrays, **kwargs)\n",
      "/Users/bmmorris/anaconda/lib/python3.5/site-packages/ipykernel/__main__.py:13: RuntimeWarning: invalid value encountered in greater\n"
     ]
    }
   ],
   "source": [
    "f = fits.open('../libra/data/trappist1/spex_sxd-merge_2306-0502_151118.fits')\n",
    "\n",
    "wavelength = f[0].data[0, :] * u.um\n",
    "flux = f[0].data[1, :] * u.erg * u.s**-1 * u.cm**-2 * u.Angstrom**-1\n",
    "flux = flux.to(u.W * u.m**-2 * u.um**-1)\n",
    "flux[(flux < 0) | np.isnan(flux) | (flux.value > 1.5e-13)] = 0"
   ]
  },
  {
   "cell_type": "code",
   "execution_count": 43,
   "metadata": {
    "collapsed": false,
    "deletable": true,
    "editable": true
   },
   "outputs": [
    {
     "data": {
      "text/plain": [
       "(0.1, 3)"
      ]
     },
     "execution_count": 43,
     "metadata": {},
     "output_type": "execute_result"
    },
    {
     "data": {
      "image/png": "[encoded data removed]",
      "text/plain": [
       "<matplotlib.figure.Figure at 0x1100f22b0>"
      ]
     },
     "metadata": {},
     "output_type": "display_data"
    }
   ],
   "source": [
    "#plt.plot(phoenix_wavelengths, coolstar/coolstar.max())\n",
    "\n",
    "plt.plot(wavelength, flux)\n",
    "\n",
    "plt.xlim([0.1, 3])"
   ]
  },
  {
   "cell_type": "code",
   "execution_count": 46,
   "metadata": {
    "collapsed": false,
    "deletable": true,
    "editable": true
   },
   "outputs": [
    {
     "name": "stderr",
     "output_type": "stream",
     "text": [
      "WARNING: Source spectrum is tapered. [synphot.observation]\n"
     ]
    }
   ],
   "source": [
    "from synphot import units, SourceSpectrum, Empirical1D, Observation\n",
    "\n",
    "from synphot import SpectralElement\n",
    "\n",
    "v = SourceSpectrum.from_vega()\n",
    "\n",
    "bp_i = SpectralElement.from_filter('cousins_i')\n",
    "bp_r = SpectralElement.from_filter('cousins_r')\n",
    "\n",
    "bp_j = SpectralElement.from_file('/Users/bmmorris/git/libra/libra/data/filters/2MASS_2MASS.J.dat.txt')\n",
    "bp_h = SpectralElement.from_file('/Users/bmmorris/git/libra/libra/data/filters/2MASS_2MASS.H.dat.txt')\n",
    "bp_k = SpectralElement.from_file('/Users/bmmorris/git/libra/libra/data/filters/2MASS_2MASS.Ks.dat.txt')\n",
    "\n",
    "sp = SourceSpectrum(Empirical1D, points=wavelength.to(u.Angstrom), lookup_table=flux)\n",
    "\n",
    "force = 'taper'\n",
    "obs_r = Observation(sp, bp_r, force=force)\n",
    "obs_i = Observation(sp, bp_i, force=force)\n",
    "\n",
    "obs_j = Observation(sp, bp_j, force=force)\n",
    "obs_h = Observation(sp, bp_h, force=force)\n",
    "obs_k = Observation(sp, bp_k, force=force)"
   ]
  },
  {
   "cell_type": "code",
   "execution_count": 47,
   "metadata": {
    "collapsed": false,
    "deletable": true,
    "editable": true
   },
   "outputs": [
    {
     "data": {
      "text/plain": [
       "[<matplotlib.lines.Line2D at 0x10fc6c358>]"
      ]
     },
     "execution_count": 47,
     "metadata": {},
     "output_type": "execute_result"
    },
    {
     "data": {
      "image/png": "[encoded data removed]",
      "text/plain": [
       "<matplotlib.figure.Figure at 0x10fe5a710>"
      ]
     },
     "metadata": {},
     "output_type": "display_data"
    }
   ],
   "source": [
    "plt.plot(wavelength, flux)"
   ]
  },
  {
   "cell_type": "code",
   "execution_count": 52,
   "metadata": {
    "collapsed": false,
    "deletable": true,
    "editable": true
   },
   "outputs": [
    {
     "name": "stdout",
     "output_type": "stream",
     "text": [
      "0.6359999999999992 1.0579999999999998\n"
     ]
    }
   ],
   "source": [
    "R = 16.6 \n",
    "I = 14.0\n",
    "J = 11.354 \n",
    "H = 10.718 \n",
    "K = 10.296 \n",
    "print(J-H, J-K)"
   ]
  },
  {
   "cell_type": "code",
   "execution_count": 53,
   "metadata": {
    "collapsed": false,
    "deletable": true,
    "editable": true
   },
   "outputs": [],
   "source": [
    "#obs_r.effstim('vegamag', vegaspec=v) - obs_i.effstim('vegamag', vegaspec=v)"
   ]
  },
  {
   "cell_type": "code",
   "execution_count": 56,
   "metadata": {
    "collapsed": false,
    "deletable": true,
    "editable": true
   },
   "outputs": [
    {
     "data": {
      "text/latex": [
       "$0.64768198 \\; \\mathrm{vegamag}$"
      ],
      "text/plain": [
       "<Quantity 0.6476819770669398 VEGAMAG>"
      ]
     },
     "execution_count": 56,
     "metadata": {},
     "output_type": "execute_result"
    }
   ],
   "source": [
    "obs_j.effstim('vegamag', vegaspec=v) - obs_h.effstim('vegamag', vegaspec=v)"
   ]
  },
  {
   "cell_type": "code",
   "execution_count": 55,
   "metadata": {
    "collapsed": false
   },
   "outputs": [
    {
     "data": {
      "text/latex": [
       "$1.0786875 \\; \\mathrm{vegamag}$"
      ],
      "text/plain": [
       "<Quantity 1.0786874887606412 VEGAMAG>"
      ]
     },
     "execution_count": 55,
     "metadata": {},
     "output_type": "execute_result"
    }
   ],
   "source": [
    "obs_j.effstim('vegamag', vegaspec=v) - obs_k.effstim('vegamag', vegaspec=v)"
   ]
  },
  {
   "cell_type": "code",
   "execution_count": null,
   "metadata": {
    "collapsed": true
   },
   "outputs": [],
   "source": []
  }
 ],
 "metadata": {
  "kernelspec": {
   "display_name": "Python 3",
   "language": "python",
   "name": "python3"
  },
  "language_info": {
   "codemirror_mode": {
    "name": "ipython",
    "version": 3
   },
   "file_extension": ".py",
   "mimetype": "text/x-python",
   "name": "python",
   "nbconvert_exporter": "python",
   "pygments_lexer": "ipython3",
   "version": "3.5.4"
  }
 },
 "nbformat": 4,
 "nbformat_minor": 0
}
