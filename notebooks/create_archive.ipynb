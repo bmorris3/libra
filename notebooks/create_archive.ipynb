{
 "cells": [
  {
   "cell_type": "code",
   "execution_count": 2,
   "metadata": {
    "collapsed": false,
    "deletable": true,
    "editable": true
   },
   "outputs": [],
   "source": [
    "%matplotlib inline\n",
    "%config InlineBackend.figure_format = 'retina'\n",
    "import matplotlib.pyplot as plt\n",
    "import numpy as np\n",
    "import astropy.units as u\n",
    "from astropy.time import Time\n",
    "\n",
    "import sys\n",
    "sys.path.insert(0, '../')"
   ]
  },
  {
   "cell_type": "code",
   "execution_count": 6,
   "metadata": {
    "collapsed": false,
    "deletable": true,
    "editable": true
   },
   "outputs": [],
   "source": [
    "from libra import (IRTFTemplate, magnitudes, \n",
    "                   nirspec_pixel_wavelengths, throughput, trappist1, \n",
    "                   background, poisson, spitzer_variability, \n",
    "                   inject_flares, inject_example_flare, transit_duration,\n",
    "                   Star, Spot, trappist1, transit_model, ObservationArchive, \n",
    "                   trappist1_all_transits, inject_microflares)\n",
    "\n",
    "sptype_phot = 'M8V'\n",
    "sptype_spot = 'K0V'\n",
    "planets = list('bcdefgh')#bh\n",
    "name = 'TRAPPIST-1'\n",
    "run_name = 'trappist1_halftransit'"
   ]
  },
  {
   "cell_type": "code",
   "execution_count": 7,
   "metadata": {
    "collapsed": false,
    "deletable": true,
    "editable": true
   },
   "outputs": [],
   "source": [
    "import json\n",
    "\n",
    "observable_transits = json.load(open('../libra/data/apt/cycle0/observable_transit_times.json'))"
   ]
  },
  {
   "cell_type": "code",
   "execution_count": 8,
   "metadata": {
    "collapsed": false,
    "deletable": true,
    "editable": true
   },
   "outputs": [],
   "source": [
    "trappist_transits = {k: v for k, v in observable_transits.items() if k.startswith(\"TRAPPIST\")}"
   ]
  },
  {
   "cell_type": "code",
   "execution_count": 13,
   "metadata": {
    "collapsed": false,
    "deletable": true,
    "editable": true,
    "scrolled": false
   },
   "outputs": [
    {
     "name": "stdout",
     "output_type": "stream",
     "text": [
      "midtransit 2458416.391020306\n",
      "midtransit 2458417.901896676\n",
      "midtransit 2458419.412773046\n",
      "midtransit 2458420.9236494163\n",
      "midtransit 2458422.434525786\n",
      "midtransit 2458423.945402156\n",
      "midtransit 2458425.456278526\n",
      "midtransit 2458426.9671548964\n",
      "midtransit 2458428.478031266\n",
      "midtransit 2458429.988907636\n",
      "midtransit 2458416.2146697063\n",
      "midtransit 2458418.636477166\n",
      "midtransit 2458421.058284626\n",
      "midtransit 2458423.480092086\n",
      "midtransit 2458425.901899546\n",
      "midtransit 2458428.323707006\n",
      "midtransit 2458430.745514466\n",
      "midtransit 2458433.167321926\n",
      "midtransit 2458435.589129386\n",
      "midtransit 2458438.010936846\n",
      "midtransit 2458419.384603426\n",
      "midtransit 2458423.434562426\n",
      "midtransit 2458427.4845214263\n",
      "midtransit 2458431.534480426\n",
      "midtransit 2458435.584439426\n",
      "midtransit 2458439.634398426\n",
      "midtransit 2458443.684357426\n",
      "midtransit 2458447.734316426\n",
      "midtransit 2458451.784275426\n",
      "midtransit 2458455.8342344263\n",
      "midtransit 2458416.660420426\n",
      "midtransit 2458422.7594634257\n",
      "midtransit 2458428.8585064257\n",
      "midtransit 2458434.957549426\n",
      "midtransit 2458441.056592426\n",
      "midtransit 2458447.155635426\n",
      "midtransit 2458453.254678426\n",
      "midtransit 2458459.353721426\n",
      "midtransit 2458465.452764426\n",
      "midtransit 2458642.325011426\n",
      "midtransit 2458417.047073426\n",
      "midtransit 2458426.252658426\n",
      "midtransit 2458435.458243426\n",
      "midtransit 2458444.663828426\n",
      "midtransit 2458453.869413426\n",
      "midtransit 2458463.074998426\n",
      "midtransit 2458637.981113426\n",
      "midtransit 2458647.186698426\n",
      "midtransit 2458656.392283426\n",
      "midtransit 2458665.597868426\n",
      "midtransit 2458418.9736814257\n",
      "midtransit 2458431.328154426\n",
      "midtransit 2458443.682627426\n",
      "midtransit 2458456.037100426\n",
      "midtransit 2458641.3541954258\n",
      "midtransit 2458653.7086684257\n",
      "midtransit 2458666.063141426\n",
      "midtransit 2458678.417614426\n",
      "deleting old copy\n",
      "midtransit 2458432.040731426\n",
      "midtransit 2458450.808684426\n",
      "midtransit 2458638.4882144257\n",
      "midtransit 2458657.256167426\n",
      "midtransit 2458676.024120426\n"
     ]
    }
   ],
   "source": [
    "if True: \n",
    "    wl = nirspec_pixel_wavelengths()\n",
    "    mag = magnitudes['TRAPPIST-1']['J']\n",
    "    exptime = 1*u.s\n",
    "    dataset_kwargs = dict(compression='gzip')\n",
    "    \n",
    "    for planet in planets:\n",
    "        with ObservationArchive(run_name, 'a') as obs:\n",
    "            if 'wavelengths' not in obs.archive:\n",
    "                obs.archive.create_dataset('wavelengths', data=wl)\n",
    "\n",
    "            if planet in obs.archive:\n",
    "                print('deleting old copy')\n",
    "                del obs.archive[planet]\n",
    "            group = obs.archive.create_group(planet)\n",
    "\n",
    "            u1, u2 = trappist1(planet).u\n",
    "            duration = transit_duration(trappist1(planet))\n",
    "\n",
    "            spectrum_photo = IRTFTemplate(sptype_phot)\n",
    "            spectrum_spots = IRTFTemplate(sptype_spot)#spectrum_photo.scale_temperature(delta_teff)\n",
    "\n",
    "            for midtransit in trappist_transits[\"{0} {1}\".format(name, planet)][:10]:\n",
    "                print('midtransit', midtransit)\n",
    "#                 times = np.arange(midtransit - 1.5*duration, \n",
    "#                                   midtransit + 1.5*duration, exptime.to(u.day).value)\n",
    "                times = np.arange(midtransit - 1*duration, midtransit, exptime.to(u.day).value)\n",
    "            \n",
    "                #transit = transit_model(times, trappist1(planet))\n",
    "                transit = trappist1_all_transits(times)\n",
    "                \n",
    "                subgroup = group.create_group(\"{0}\".format(Time(midtransit, format='jd').isot))\n",
    "                star = Star.with_trappist1_spot_distribution()\n",
    "                area = star.spotted_area(times)\n",
    "                fluxes = star.fractional_flux(times)\n",
    "                flares = inject_flares(wl, times)\n",
    "                #flares = inject_microflares(wl, times)\n",
    "                spectra = np.zeros((len(times), len(wl)))\n",
    "                \n",
    "                spitzer_var = spitzer_variability(times)\n",
    "\n",
    "                for i in range(len(times)):\n",
    "                    combined_spectrum = ((1 - area[i]) * spectrum_photo + \n",
    "                                         area[i] * spectrum_spots)\n",
    "                    spectra[i, :] = poisson(combined_spectrum.n_photons(wl, exptime, mag) * \n",
    "                                           transit[i] * throughput(wl) * spitzer_var[i] * \n",
    "                                           (1 + flares[i, :]) + background(wl, exptime))\n",
    "\n",
    "#                 spectral_fluxes = np.sum(spectra, axis=1)\n",
    "#                 plt.scatter(times, spectral_fluxes/spectral_fluxes.mean(), \n",
    "#                             marker='.', s=4, label='spectrum model')\n",
    "#                 plt.legend()\n",
    "#                 plt.show()\n",
    "                subgroup.attrs['spot_radii'] = [s.r for s in star.spots]\n",
    "                subgroup.attrs['spot_contrast'] = star.spots[0].contrast\n",
    "                subgroup.attrs['t0'] = midtransit\n",
    "\n",
    "                subgroup.create_dataset('spectra', data=spectra, **dataset_kwargs)\n",
    "                subgroup.create_dataset('transit', data=transit, **dataset_kwargs)\n",
    "                subgroup.create_dataset('fluxes', data=fluxes, **dataset_kwargs)\n",
    "                subgroup.create_dataset('spotted_area', data=area, **dataset_kwargs)\n",
    "                subgroup.create_dataset('flares', data=1 + flares, **dataset_kwargs)\n",
    "                subgroup.create_dataset('spitzer_var', data=spitzer_var, **dataset_kwargs)\n",
    "                subgroup.create_dataset('times', data=times, **dataset_kwargs)\n",
    "            obs.archive.flush()\n",
    "\n",
    "#             # Make a plot!\n",
    "#             fig, ax = obs.plot()\n",
    "#             fig.savefig('sims/trappist1{1}_simulation_{0:02d}.png'.format(i, planet), dpi=200)"
   ]
  },
  {
   "cell_type": "code",
   "execution_count": null,
   "metadata": {
    "collapsed": false,
    "deletable": true,
    "editable": true
   },
   "outputs": [],
   "source": [
    "#planet = 'h'\n",
    "with ObservationArchive(run_name) as obs:\n",
    "    for i, observation in enumerate(obs.g):\n",
    "        fig, ax = observation.plot()\n",
    "        fig.savefig('sims/trappist1{1}_simulation_{0:02d}.png'.format(i, planet), dpi=200)"
   ]
  },
  {
   "cell_type": "code",
   "execution_count": null,
   "metadata": {
    "collapsed": false,
    "deletable": true,
    "editable": true
   },
   "outputs": [],
   "source": [
    "with ObservationArchive(\"trappist1_fulltransit\") as obs:\n",
    "    for i in obs.archive['h']:\n",
    "        sim = obs.archive['h'][i]\n",
    "        print(sim.attrs['t0'])"
   ]
  },
  {
   "cell_type": "code",
   "execution_count": null,
   "metadata": {
    "collapsed": false,
    "deletable": true,
    "editable": true
   },
   "outputs": [],
   "source": [
    "obs.archive"
   ]
  },
  {
   "cell_type": "code",
   "execution_count": null,
   "metadata": {
    "collapsed": true,
    "deletable": true,
    "editable": true
   },
   "outputs": [],
   "source": []
  }
 ],
 "metadata": {
  "kernelspec": {
   "display_name": "Python 3",
   "language": "python",
   "name": "python3"
  },
  "language_info": {
   "codemirror_mode": {
    "name": "ipython",
    "version": 3
   },
   "file_extension": ".py",
   "mimetype": "text/x-python",
   "name": "python",
   "nbconvert_exporter": "python",
   "pygments_lexer": "ipython3",
   "version": "3.5.4"
  }
 },
 "nbformat": 4,
 "nbformat_minor": 0
}
