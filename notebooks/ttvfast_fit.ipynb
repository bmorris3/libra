{
 "cells": [
  {
   "cell_type": "code",
   "execution_count": 312,
   "metadata": {},
   "outputs": [],
   "source": [
    "%matplotlib inline\n",
    "import matplotlib.pyplot as plt\n",
    "from ttvfast import ttvfast\n",
    "from ttvfast.models import Planet \n",
    "from astropy.constants import M_sun, M_earth\n",
    "import numpy as np\n",
    "import astropy.units as u\n",
    "\n",
    "midtransit_f = 2455422.710\n",
    "midtransit_e = 2454983.404\n",
    "period_f = 267.291\n",
    "period_e = 122.3874\n",
    "\n",
    "# phase = 360 * (midtransit_f - midtransit_e)/period_e % 1\n",
    "\n",
    "# mass_e = 4.45356410231 * float(M_earth/M_sun) # Forecaster (Berger 2018, Chen+ 2017)\n",
    "# mass_f = 3.33116078749 * float(M_earth/M_sun) # Forecaster (Berger 2018, Chen+ 2017)\n",
    "\n",
    "# e = Planet(mass=mass_e, period=period_e, eccentricity=0, inclination=89.98, \n",
    "#            longnode=90, argument=90, mean_anomaly=0)\n",
    "# f = Planet(mass=mass_f, period=period_f, eccentricity=0, inclination=89.90, \n",
    "#            longnode=90, argument=90, mean_anomaly=phase)"
   ]
  },
  {
   "cell_type": "code",
   "execution_count": 313,
   "metadata": {},
   "outputs": [],
   "source": [
    "observed_timing = np.loadtxt(\"../libra/data/timing_k62_Kep_HST.txt\", delimiter=',')"
   ]
  },
  {
   "cell_type": "code",
   "execution_count": 314,
   "metadata": {},
   "outputs": [],
   "source": [
    "timing_e = observed_timing[observed_timing[:, 0] == 1][:, -3:]\n",
    "timing_f = observed_timing[observed_timing[:, 0] == 2][:, -3:]\n",
    "\n",
    "timing_e[:, 1] += 2450000\n",
    "timing_f[:, 1] += 2450000\n",
    "\n",
    "epochs_e, times_e, errs_e = timing_e.T\n",
    "epochs_f, times_f, errs_f = timing_f.T"
   ]
  },
  {
   "cell_type": "code",
   "execution_count": 315,
   "metadata": {},
   "outputs": [
    {
     "data": {
      "text/plain": [
       "<ErrorbarContainer object of 3 artists>"
      ]
     },
     "execution_count": 315,
     "metadata": {},
     "output_type": "execute_result"
    },
    {
     "data": {
      "image/png": "[encoded data removed]",
      "text/plain": [
       "<Figure size 432x288 with 1 Axes>"
      ]
     },
     "metadata": {},
     "output_type": "display_data"
    }
   ],
   "source": [
    "plt.errorbar(times_e, times_e - np.polyval(np.polyfit(epochs_e, times_e, 1), epochs_e), errs_e)\n",
    "plt.errorbar(times_f, times_f - np.polyval(np.polyfit(epochs_f, times_f, 1), epochs_f), errs_f)"
   ]
  },
  {
   "cell_type": "code",
   "execution_count": 316,
   "metadata": {},
   "outputs": [
    {
     "data": {
      "text/plain": [
       "(array([  0.,   1.,   2.,   3.,   4.,   6.,   7.,   8.,   9.,  10.,  11.]),\n",
       " array([  0.,   1.,   2.,   3.,  10.]))"
      ]
     },
     "execution_count": 316,
     "metadata": {},
     "output_type": "execute_result"
    }
   ],
   "source": [
    "epochs_e, epochs_f"
   ]
  },
  {
   "cell_type": "code",
   "execution_count": 317,
   "metadata": {},
   "outputs": [
    {
     "data": {
      "text/plain": [
       "(267.291, 122.3874)"
      ]
     },
     "execution_count": 317,
     "metadata": {},
     "output_type": "execute_result"
    }
   ],
   "source": [
    "period_f, period_e"
   ]
  },
  {
   "cell_type": "code",
   "execution_count": 319,
   "metadata": {},
   "outputs": [
    {
     "data": {
      "text/plain": [
       "0.64352568397570686"
      ]
     },
     "execution_count": 319,
     "metadata": {},
     "output_type": "execute_result"
    }
   ],
   "source": [
    "((times_f.min() - times_e.min())/period_f % 1 )"
   ]
  },
  {
   "cell_type": "code",
   "execution_count": 269,
   "metadata": {},
   "outputs": [
    {
     "data": {
      "text/plain": [
       "591.6778342703335"
      ]
     },
     "execution_count": 269,
     "metadata": {},
     "output_type": "execute_result"
    }
   ],
   "source": [
    "phase"
   ]
  },
  {
   "cell_type": "code",
   "execution_count": 326,
   "metadata": {},
   "outputs": [
    {
     "name": "stdout",
     "output_type": "stream",
     "text": [
      "231.669246231\n"
     ]
    },
    {
     "data": {
      "text/plain": [
       "(array([  3.44589353e-08,   6.37510139e-03,   1.39999380e-02,\n",
       "          7.04240240e-03,   1.11858873e-03,   1.32529442e-02,\n",
       "          1.22880512e-02,   1.91912712e-02,   2.34092632e-02,\n",
       "          1.74193555e-02,   2.27617938e-03]),\n",
       " array([-0.02956312, -0.04951633, -0.06775079, -0.05374302, -0.19507381]))"
      ]
     },
     "execution_count": 326,
     "metadata": {},
     "output_type": "execute_result"
    }
   ],
   "source": [
    "#phase = 360 * (((midtransit_f - midtransit_e) / period_f))\n",
    "phase = 360 * ((times_f.min() - times_e.min())/period_f % 1 )\n",
    "print(phase)\n",
    "\n",
    "e = Planet(mass=mass_e, period=period_e, eccentricity=0, inclination=89.98, \n",
    "           longnode=90, argument=90, mean_anomaly=0)\n",
    "f = Planet(mass=mass_f, period=period_f, eccentricity=0, inclination=89.90, \n",
    "           longnode=90, argument=90, mean_anomaly=360-phase)\n",
    "result = ttvfast(planets=[e, f], stellar_mass=0.69, time=times_e.min(), dt=period_e/50, total=times_e.min()+5000)\n",
    "planet_ind, epoch, times, rsky, vsky = [np.array(i) for i in result['positions']]\n",
    "condition = (times != -2)\n",
    "planet_ind, epoch, times, rsky, vsky = [i[condition] for i in [planet_ind, epoch, times, rsky, vsky]]\n",
    "\n",
    "indices_e = (planet_ind == 0) & np.in1d(epoch, epochs_e)\n",
    "indices_f = (planet_ind == 1) & np.in1d(epoch, epochs_f + 1)\n",
    "epoch_e = epoch[indices_e]\n",
    "epoch_f = epoch[indices_f]\n",
    "model_times_e = times[indices_e]\n",
    "model_times_f = times[indices_f]\n",
    "\n",
    "# logchi2_e = -0.5 * np.sum( (model_times_e - times_e)**2 / errs_e**2 )\n",
    "# logchi2_f = -0.5 * np.sum( (model_times_f - times_f)**2 / errs_f**2 )\n",
    "\n",
    "model_times_e - times_e, model_times_f - times_f"
   ]
  },
  {
   "cell_type": "markdown",
   "metadata": {},
   "source": [
    "Simulated times to fit: "
   ]
  },
  {
   "cell_type": "code",
   "execution_count": 290,
   "metadata": {},
   "outputs": [],
   "source": [
    "# np.random.seed(1234)\n",
    "\n",
    "# time_err = (50 * u.s).to(u.day).value\n",
    "\n",
    "# times_e = np.load('example_times_e.npy') \n",
    "# times_e += time_err * np.random.randn(len(times_e))\n",
    "# times_f = np.load('example_times_f.npy')\n",
    "# times_f += time_err * np.random.randn(len(times_f))\n",
    "\n",
    "# plt.plot(times_e)\n",
    "# plt.plot(times_f)"
   ]
  },
  {
   "cell_type": "code",
   "execution_count": 33,
   "metadata": {},
   "outputs": [
    {
     "data": {
      "text/plain": [
       "(8,)"
      ]
     },
     "execution_count": 33,
     "metadata": {},
     "output_type": "execute_result"
    }
   ],
   "source": [
    "times_e.shape"
   ]
  },
  {
   "cell_type": "code",
   "execution_count": 339,
   "metadata": {},
   "outputs": [
    {
     "name": "stderr",
     "output_type": "stream",
     "text": [
      "/Users/bmmorris/anaconda/lib/python3.5/site-packages/emcee/ensemble.py:335: RuntimeWarning: invalid value encountered in subtract\n",
      "  lnpdiff = (self.dim - 1.) * np.log(zz) + newlnprob - lnprob0\n",
      "/Users/bmmorris/anaconda/lib/python3.5/site-packages/emcee/ensemble.py:336: RuntimeWarning: invalid value encountered in greater\n",
      "  accept = (lnpdiff > np.log(self._random.rand(len(lnpdiff))))\n"
     ]
    }
   ],
   "source": [
    "import emcee\n",
    "from corner import corner\n",
    "\n",
    "def lnprob(p):\n",
    "    mass_e, mass_f = p\n",
    "\n",
    "    if mass_e < 0 or mass_f < 0 or mass_e > 1e-3 or mass_f > 1e-3:# or w < 0 or w > 360:\n",
    "        return -np.inf\n",
    "    \n",
    "    e = Planet(mass=mass_e, period=period_e, eccentricity=0, inclination=89.98, \n",
    "               longnode=90, argument=90, mean_anomaly=0)\n",
    "    f = Planet(mass=mass_f, period=period_f, eccentricity=0, inclination=89.90, \n",
    "               longnode=90, argument=90, mean_anomaly=360-phase)\n",
    "    result = ttvfast(planets=[e, f], stellar_mass=0.69, time=times_e.min()-0.01, dt=period_e/50, total=times_e.min()+5000)\n",
    "    planet_ind, epoch, times, rsky, vsky = [np.array(i) for i in result['positions']]\n",
    "    ignore_condition = (times != -2)\n",
    "    planet_ind, epoch, times, rsky, vsky = [i[ignore_condition] for i in [planet_ind, epoch, times, rsky, vsky]]\n",
    "    \n",
    "    indices_e = (planet_ind == 0) & np.in1d(epoch, epochs_e)\n",
    "    indices_f = (planet_ind == 1) & np.in1d(epoch, epochs_f + 1)\n",
    "    epoch_e = epoch[indices_e]\n",
    "    epoch_f = epoch[indices_f]\n",
    "    model_times_e = times[indices_e]\n",
    "    model_times_f = times[indices_f]\n",
    "\n",
    "    logchi2_e = -0.5 * np.sum( (model_times_e - times_e)**2 / errs_e**2 )\n",
    "    logchi2_f = -0.5 * np.sum( (model_times_f - times_f)**2 / errs_f**2 )\n",
    "\n",
    "#     print(model_times_e - times_e, model_times_f - times_f)\n",
    "#     print(logchi2_e, logchi2_f)\n",
    "    return logchi2_e + logchi2_f\n",
    "\n",
    "ndim, nwalkers = 2, 10\n",
    "init_masses = np.array([mass_e, mass_f])\n",
    "p0 = [init_masses * 1e-8 * np.random.randn(ndim) for i in range(nwalkers)]\n",
    "\n",
    "# p0 = [i+np.array([0, 0, 5*np.random.randn()]) for i in p0]\n",
    "\n",
    "sampler = emcee.EnsembleSampler(nwalkers, ndim, lnprob, threads=8)\n",
    "p1 = sampler.run_mcmc(p0, 1000)[0];\n",
    "sampler.reset()\n",
    "sampler.run_mcmc(p1, 1000);"
   ]
  },
  {
   "cell_type": "code",
   "execution_count": 340,
   "metadata": {},
   "outputs": [
    {
     "data": {
      "image/png": "[encoded data removed]",
      "text/plain": [
       "<Figure size 396x396 with 4 Axes>"
      ]
     },
     "metadata": {},
     "output_type": "display_data"
    }
   ],
   "source": [
    "chains = sampler.flatchain\n",
    "chains[:, :2] /= float(M_earth/M_sun)\n",
    "\n",
    "corner(chains, truths=[mass_e/float(M_earth/M_sun), mass_f/float(M_earth/M_sun)], \n",
    "       labels=['$M_e$', '$M_f$']);\n",
    "plt.savefig('ttv_recovery.png', bbox_inches='tight')"
   ]
  },
  {
   "cell_type": "code",
   "execution_count": null,
   "metadata": {},
   "outputs": [],
   "source": []
  }
 ],
 "metadata": {
  "kernelspec": {
   "display_name": "Python 3",
   "language": "python",
   "name": "python3"
  },
  "language_info": {
   "codemirror_mode": {
    "name": "ipython",
    "version": 3
   },
   "file_extension": ".py",
   "mimetype": "text/x-python",
   "name": "python",
   "nbconvert_exporter": "python",
   "pygments_lexer": "ipython3",
   "version": "3.5.4"
  }
 },
 "nbformat": 4,
 "nbformat_minor": 2
}
