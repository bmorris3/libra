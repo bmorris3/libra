{
 "cells": [
  {
   "cell_type": "code",
   "execution_count": 1,
   "metadata": {
    "collapsed": true
   },
   "outputs": [],
   "source": [
    "%matplotlib inline\n",
    "%config IPython.matplotlib.backend = \"retina\"\n",
    "import matplotlib.pyplot as plt\n",
    "import numpy as np\n",
    "import sys\n",
    "import astropy.units as u\n",
    "from astropy.io import ascii, fits\n",
    "from astropy.modeling.blackbody import blackbody_lambda\n",
    "\n",
    "sys.path.insert(0, '../')\n",
    "from libra import Spot, Star"
   ]
  },
  {
   "cell_type": "code",
   "execution_count": 7,
   "metadata": {
    "collapsed": true
   },
   "outputs": [],
   "source": [
    "from glob import glob\n",
    "\n",
    "paths = glob('/Users/bmmorris/git/freckles/data/lte*BT-Settl.spec.fits')\n",
    "\n",
    "from astropy.io import fits\n",
    "\n",
    "phoenix_wavelengths = fits.getdata(paths[0])['Wavelength']\n",
    "\n",
    "temperatures = []\n",
    "model_fluxes = []\n",
    "\n",
    "for path in paths:\n",
    "    hdu = fits.open(path)\n",
    "    temperatures.append(hdu[1].header['PHXTEFF'])\n",
    "    interp_flux = np.interp(wavelengths, hdu[1].data['Wavelength'], hdu[1].data['Flux'])\n",
    "    model_fluxes.append(interp_flux)\n",
    "    \n",
    "model_fluxes = np.vstack(model_fluxes)\n",
    "temperatures = np.array(temperatures)"
   ]
  },
  {
   "cell_type": "code",
   "execution_count": 87,
   "metadata": {
    "collapsed": false
   },
   "outputs": [],
   "source": [
    "V = 18.8\n",
    "R = 16.6\n",
    "\n",
    "def sort_transmittance(*args):\n",
    "    sort = np.argsort(args[0])\n",
    "    return lambda x: np.interp(x, args[0][sort]/1000, args[1][sort]/1000, left=0, right=0)\n",
    "\n",
    "trans_v = sort_transmittance(*np.loadtxt('../libra/data/filters/Bessel_V-1.txt', unpack=True, delimiter='\\t\\t'))\n",
    "trans_b = sort_transmittance(*np.loadtxt('../libra/data/filters/Bessel_B-1.txt', unpack=True, delimiter='\\t\\t'))\n",
    "trans_r = sort_transmittance(*np.loadtxt('../libra/data/filters/Bessel_R-1.txt', unpack=True, delimiter='\\t\\t'))\n",
    "trans_i = sort_transmittance(*np.loadtxt('../libra/data/filters/Bessel_I-1.txt', unpack=True, delimiter='\\t\\t'))"
   ]
  },
  {
   "cell_type": "markdown",
   "metadata": {},
   "source": [
    "\n",
    "$$ V - R = 2.5 \\log_{10} \\frac{\\int_V F_\\lambda d\\lambda}{\\int_R F_\\lambda d\\lambda} $$"
   ]
  },
  {
   "cell_type": "code",
   "execution_count": 109,
   "metadata": {
    "collapsed": false
   },
   "outputs": [],
   "source": [
    "b_mstar, v_mstar, r_mstar, i_mstar = 0.020, 0.030, 0.039, 0.035\n",
    "b_fstar, v_fstar, r_fstar, i_fstar = 6.3170e-9, 3.6186e-9, 2.1652e-9, 1.1327e-9\n",
    "\n",
    "def vega_mag(wavelength, flux, trans, mstar, fstar):\n",
    "    numerator = np.trapz(flux * wavelength * trans(wavelength), wavelength)\n",
    "    denominator = np.trapz(wavelength * trans(wavelength), wavelength)\n",
    "    return -2.5 * np.log10(numerator / denominator) + mstar + 2.5 * np.log10(fstar)\n",
    "\n",
    "def flux_to_b_minus_v(wavelength, flux):\n",
    "    flux_v = np.trapz(flux * trans_v(wavelength), wavelength)\n",
    "    flux_b = np.trapz(flux * trans_b(wavelength), wavelength)\n",
    "#     plt.plot(wavelength, flux/flux.max())\n",
    "#     plt.plot(wavelength, trans_r(wavelength))\n",
    "#     plt.xlim([0.1, 1])\n",
    "#     plt.show()\n",
    "    const = 2.5 * np.log10(np.trapz(trans_b(wavelength), wavelength) / np.trapz(trans_v(wavelength), wavelength))\n",
    "    return - 2.5 * np.log10(flux_b / flux_v) #+ const\n",
    "\n",
    "def flux_to_v_minus_r(wavelength, flux):\n",
    "    flux_v = np.trapz(flux * trans_v(wavelength), wavelength)\n",
    "    flux_r = np.trapz(flux * trans_r(wavelength), wavelength)\n",
    "#     plt.plot(wavelength, flux/flux.max())\n",
    "#     plt.plot(wavelength, trans_r(wavelength))\n",
    "#     plt.xlim([0.1, 1])\n",
    "#     plt.show()\n",
    "    const = 2.5 * np.log10(np.trapz(trans_v(wavelength), wavelength) / np.trapz(trans_r(wavelength), wavelength))\n",
    "    return - 2.5 * np.log10(flux_v / flux_r) #+ const\n",
    "\n",
    "def flux_to_v_minus_i(wavelength, flux):\n",
    "    \n",
    "#     plt.plot(wavelength, flux/flux.max())\n",
    "#     plt.plot(wavelength, trans_v(wavelength))\n",
    "#     plt.xlim([0.1, 1])\n",
    "#     plt.show()\n",
    "    \n",
    "    flux_v = np.trapz(flux * wavelength * trans_v(wavelength), wavelength)\n",
    "    flux_i = np.trapz(flux * wavelength * trans_i(wavelength), wavelength)\n",
    "    const = 2.5 * np.log10(np.trapz(trans_v(wavelength), wavelength) / np.trapz(trans_r(wavelength), wavelength))\n",
    "\n",
    "    return - 2.5 * np.log10(flux_v / flux_i) + const"
   ]
  },
  {
   "cell_type": "markdown",
   "metadata": {},
   "source": [
    "K8V: 4000 K (Mamajek)\n",
    "\n",
    "V-R = 0.843,  V-I = 1.632"
   ]
  },
  {
   "cell_type": "code",
   "execution_count": 113,
   "metadata": {
    "collapsed": false
   },
   "outputs": [
    {
     "data": {
      "text/plain": [
       "(0.70259301277640418, 1.4060508075475013)"
      ]
     },
     "execution_count": 113,
     "metadata": {},
     "output_type": "execute_result"
    }
   ],
   "source": [
    "k8v = model_fluxes[np.argmin(np.abs(temperatures - 4000)), :]\n",
    "\n",
    "#flux_to_b_minus_v(phoenix_wavelengths, k8v), flux_to_v_minus_r(phoenix_wavelengths, k8v), flux_to_v_minus_i(phoenix_wavelengths, k8v)\n",
    "b = vega_mag(phoenix_wavelengths, k8v, trans_b, b_mstar, b_fstar)\n",
    "v = vega_mag(phoenix_wavelengths, k8v, trans_v, v_mstar, v_fstar)\n",
    "r = vega_mag(phoenix_wavelengths, k8v, trans_r, r_mstar, r_fstar)\n",
    "i = vega_mag(phoenix_wavelengths, k8v, trans_r, r_mstar, i_fstar)\n",
    "\n",
    "v - r, v - i"
   ]
  },
  {
   "cell_type": "code",
   "execution_count": 108,
   "metadata": {
    "collapsed": false
   },
   "outputs": [
    {
     "data": {
      "text/plain": [
       "(200, 1200)"
      ]
     },
     "execution_count": 108,
     "metadata": {},
     "output_type": "execute_result"
    },
    {
     "data": {
      "image/png": "[encoded data removed]",
      "text/plain": [
       "<matplotlib.figure.Figure at 0x11b0c97f0>"
      ]
     },
     "metadata": {},
     "output_type": "display_data"
    }
   ],
   "source": [
    "from scipy.ndimage import gaussian_filter1d\n",
    "phoenix_2500 = model_fluxes[np.argmin(np.abs(temperatures - 2500)), :]\n",
    "\n",
    "phoenix_3700 = model_fluxes[np.argmin(np.abs(temperatures - 4000)), :]\n",
    "\n",
    "plt.plot(phoenix_wavelengths, trans_v(phoenix_wavelengths))\n",
    "plt.plot(phoenix_wavelengths, trans_r(phoenix_wavelengths))\n",
    "plt.plot(phoenix_wavelengths, trans_i(phoenix_wavelengths))\n",
    "\n",
    "plt.plot(phoenix_wavelengths*1000, gaussian_filter1d(phoenix_2500/phoenix_2500.max() * 100, 100))\n",
    "\n",
    "plt.plot(phoenix_wavelengths*1000, gaussian_filter1d(phoenix_3700/phoenix_3700.max() * 100, 100))\n",
    "\n",
    "plt.xlim([200, 1200])"
   ]
  },
  {
   "cell_type": "code",
   "execution_count": null,
   "metadata": {
    "collapsed": true
   },
   "outputs": [],
   "source": []
  }
 ],
 "metadata": {
  "kernelspec": {
   "display_name": "Python 3",
   "language": "python",
   "name": "python3"
  },
  "language_info": {
   "codemirror_mode": {
    "name": "ipython",
    "version": 3
   },
   "file_extension": ".py",
   "mimetype": "text/x-python",
   "name": "python",
   "nbconvert_exporter": "python",
   "pygments_lexer": "ipython3",
   "version": "3.5.4"
  }
 },
 "nbformat": 4,
 "nbformat_minor": 0
}
