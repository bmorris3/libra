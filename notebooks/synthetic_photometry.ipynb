{
 "cells": [
  {
   "cell_type": "code",
   "execution_count": 114,
   "metadata": {
    "collapsed": true
   },
   "outputs": [],
   "source": [
    "%matplotlib inline\n",
    "%config IPython.matplotlib.backend = \"retina\"\n",
    "import matplotlib.pyplot as plt\n",
    "import numpy as np\n",
    "import sys\n",
    "import astropy.units as u\n",
    "from astropy.io import ascii, fits\n",
    "from astropy.modeling.blackbody import blackbody_lambda\n",
    "\n",
    "sys.path.insert(0, '../')\n",
    "from libra import Spot, Star"
   ]
  },
  {
   "cell_type": "code",
   "execution_count": 115,
   "metadata": {
    "collapsed": true
   },
   "outputs": [],
   "source": [
    "from glob import glob\n",
    "\n",
    "paths = glob('/Users/bmmorris/git/freckles/data/lte*BT-Settl.spec.fits')\n",
    "\n",
    "from astropy.io import fits\n",
    "\n",
    "phoenix_wavelengths = fits.getdata(paths[0])['Wavelength']\n",
    "\n",
    "temperatures = []\n",
    "model_fluxes = []\n",
    "\n",
    "for path in paths:\n",
    "    hdu = fits.open(path)\n",
    "    temperatures.append(hdu[1].header['PHXTEFF'])\n",
    "    interp_flux = np.interp(wavelengths, hdu[1].data['Wavelength'], hdu[1].data['Flux'])\n",
    "    model_fluxes.append(interp_flux)\n",
    "    \n",
    "model_fluxes = np.vstack(model_fluxes)\n",
    "temperatures = np.array(temperatures)"
   ]
  },
  {
   "cell_type": "code",
   "execution_count": 116,
   "metadata": {
    "collapsed": false
   },
   "outputs": [],
   "source": [
    "V = 18.8\n",
    "R = 16.6\n",
    "\n",
    "def sort_transmittance(*args):\n",
    "    sort = np.argsort(args[0])\n",
    "    return lambda x: np.interp(x, args[0][sort]/1000, args[1][sort]/1000, left=0, right=0)\n",
    "\n",
    "trans_v = sort_transmittance(*np.loadtxt('../libra/data/filters/Bessel_V-1.txt', unpack=True, delimiter='\\t\\t'))\n",
    "trans_b = sort_transmittance(*np.loadtxt('../libra/data/filters/Bessel_B-1.txt', unpack=True, delimiter='\\t\\t'))\n",
    "trans_r = sort_transmittance(*np.loadtxt('../libra/data/filters/Bessel_R-1.txt', unpack=True, delimiter='\\t\\t'))\n",
    "trans_i = sort_transmittance(*np.loadtxt('../libra/data/filters/Bessel_I-1.txt', unpack=True, delimiter='\\t\\t'))"
   ]
  },
  {
   "cell_type": "markdown",
   "metadata": {},
   "source": [
    "\n",
    "$$ V - R = - 2.5 \\log_{10} \\frac{\\int_V F_\\lambda T_{V,\\lambda} \\lambda d\\lambda}{\\int_R F_\\lambda T_{R,\\lambda} \\lambda d\\lambda} $$"
   ]
  },
  {
   "cell_type": "code",
   "execution_count": 121,
   "metadata": {
    "collapsed": false
   },
   "outputs": [],
   "source": [
    "def flux_to_b_minus_v(wavelength, flux):\n",
    "    flux_v = np.trapz(flux * wavelength * trans_v(wavelength), wavelength)\n",
    "    flux_b = np.trapz(flux * wavelength * trans_b(wavelength), wavelength)\n",
    "    return - 2.5 * np.log10(flux_b / flux_v)\n",
    "\n",
    "def flux_to_v_minus_r(wavelength, flux):\n",
    "    flux_v = np.trapz(flux * wavelength * trans_v(wavelength), wavelength)\n",
    "    flux_r = np.trapz(flux * wavelength * trans_r(wavelength), wavelength)\n",
    "    return - 2.5 * np.log10(flux_v / flux_r)\n",
    "\n",
    "def flux_to_v_minus_i(wavelength, flux):\n",
    "    flux_v = np.trapz(flux * wavelength * trans_v(wavelength), wavelength)\n",
    "    flux_i = np.trapz(flux * wavelength * trans_i(wavelength), wavelength)\n",
    "    return - 2.5 * np.log10(flux_v / flux_i)"
   ]
  },
  {
   "cell_type": "markdown",
   "metadata": {},
   "source": [
    "Mamajek: K8V: 4000 K\n",
    "\n",
    "B-V = 1.356,  V-R = 0.843,  V-I = 1.632"
   ]
  },
  {
   "cell_type": "code",
   "execution_count": 124,
   "metadata": {
    "collapsed": false
   },
   "outputs": [
    {
     "data": {
      "text/plain": [
       "(1.1952683895991356, 0.70259301277640418, 1.4060508075475013)"
      ]
     },
     "execution_count": 124,
     "metadata": {},
     "output_type": "execute_result"
    }
   ],
   "source": [
    "k8v = model_fluxes[np.argmin(np.abs(temperatures - 4000)), :]\n",
    "\n",
    "b = vega_mag(phoenix_wavelengths, k8v, trans_b, b_mstar, b_fstar)\n",
    "v = vega_mag(phoenix_wavelengths, k8v, trans_v, v_mstar, v_fstar)\n",
    "r = vega_mag(phoenix_wavelengths, k8v, trans_r, r_mstar, r_fstar)\n",
    "i = vega_mag(phoenix_wavelengths, k8v, trans_r, r_mstar, i_fstar)\n",
    "\n",
    "b - v, v - r, v - i"
   ]
  },
  {
   "cell_type": "markdown",
   "metadata": {},
   "source": [
    "Mamajek: K2V: 5040 K\n",
    "\n",
    "B-V= 0.893, V-R = 0.487,  V-I = 0.929"
   ]
  },
  {
   "cell_type": "code",
   "execution_count": 125,
   "metadata": {
    "collapsed": false
   },
   "outputs": [
    {
     "data": {
      "text/plain": [
       "(0.86276810409825089, 0.52777963943150041, 1.2312374342025976)"
      ]
     },
     "execution_count": 125,
     "metadata": {},
     "output_type": "execute_result"
    }
   ],
   "source": [
    "k2v = model_fluxes[np.argmin(np.abs(temperatures - 5040)), :]\n",
    "\n",
    "b = vega_mag(phoenix_wavelengths, k2v, trans_b, b_mstar, b_fstar)\n",
    "v = vega_mag(phoenix_wavelengths, k2v, trans_v, v_mstar, v_fstar)\n",
    "r = vega_mag(phoenix_wavelengths, k2v, trans_r, r_mstar, r_fstar)\n",
    "i = vega_mag(phoenix_wavelengths, k2v, trans_r, r_mstar, i_fstar)\n",
    "\n",
    "b - v, v - r, v - i"
   ]
  },
  {
   "cell_type": "code",
   "execution_count": null,
   "metadata": {
    "collapsed": true
   },
   "outputs": [],
   "source": []
  }
 ],
 "metadata": {
  "kernelspec": {
   "display_name": "Python 3",
   "language": "python",
   "name": "python3"
  },
  "language_info": {
   "codemirror_mode": {
    "name": "ipython",
    "version": 3
   },
   "file_extension": ".py",
   "mimetype": "text/x-python",
   "name": "python",
   "nbconvert_exporter": "python",
   "pygments_lexer": "ipython3",
   "version": "3.5.4"
  }
 },
 "nbformat": 4,
 "nbformat_minor": 0
}
