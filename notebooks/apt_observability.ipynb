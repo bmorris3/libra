{
 "cells": [
  {
   "cell_type": "code",
   "execution_count": 1,
   "metadata": {
    "collapsed": true,
    "deletable": true,
    "editable": true
   },
   "outputs": [],
   "source": [
    "%matplotlib inline\n",
    "%config InlineBackend.figure_format = 'retina'\n",
    "import matplotlib.pyplot as plt\n",
    "import numpy as np\n",
    "import astropy.units as u\n",
    "from datetime import datetime\n",
    "from glob import glob\n",
    "from astropy.time import Time\n",
    "\n",
    "import sys\n",
    "sys.path.insert(0, '../')"
   ]
  },
  {
   "cell_type": "code",
   "execution_count": 9,
   "metadata": {
    "collapsed": false,
    "deletable": true,
    "editable": true
   },
   "outputs": [
    {
     "name": "stdout",
     "output_type": "stream",
     "text": [
      "[[datetime.datetime(2018, 10, 2, 0, 0), datetime.datetime(2018, 11, 12, 0, 0)], [datetime.datetime(2019, 4, 9, 0, 0), datetime.datetime(2019, 9, 30, 0, 0)]]\n",
      "[[datetime.datetime(2018, 10, 2, 0, 0), datetime.datetime(2018, 10, 31, 0, 0)], [datetime.datetime(2019, 4, 2, 0, 0), datetime.datetime(2019, 9, 30, 0, 0)]]\n",
      "[[datetime.datetime(2018, 10, 24, 0, 0), datetime.datetime(2018, 12, 13, 0, 0)], [datetime.datetime(2019, 6, 2, 0, 0), datetime.datetime(2019, 7, 23, 0, 0)]]\n"
     ]
    },
    {
     "name": "stderr",
     "output_type": "stream",
     "text": [
      "WARNING: ErfaWarning: ERFA function \"taiutc\" yielded 391 of \"dubious year (Note 4)\" [astropy._erfa.core]\n",
      "WARNING: ErfaWarning: ERFA function \"taiutc\" yielded 297 of \"dubious year (Note 4)\" [astropy._erfa.core]\n",
      "WARNING: ErfaWarning: ERFA function \"taiutc\" yielded 440 of \"dubious year (Note 4)\" [astropy._erfa.core]\n",
      "WARNING: ErfaWarning: ERFA function \"taiutc\" yielded 465 of \"dubious year (Note 4)\" [astropy._erfa.core]\n",
      "WARNING: ErfaWarning: ERFA function \"taiutc\" yielded 481 of \"dubious year (Note 4)\" [astropy._erfa.core]\n",
      "WARNING: ErfaWarning: ERFA function \"taiutc\" yielded 292 of \"dubious year (Note 4)\" [astropy._erfa.core]\n",
      "WARNING: ErfaWarning: ERFA function \"taiutc\" yielded 405 of \"dubious year (Note 4)\" [astropy._erfa.core]\n",
      "WARNING: ErfaWarning: ERFA function \"taiutc\" yielded 435 of \"dubious year (Note 4)\" [astropy._erfa.core]\n",
      "WARNING: ErfaWarning: ERFA function \"taiutc\" yielded 490 of \"dubious year (Note 4)\" [astropy._erfa.core]\n",
      "WARNING: ErfaWarning: ERFA function \"taiutc\" yielded 496 of \"dubious year (Note 4)\" [astropy._erfa.core]\n",
      "WARNING: ErfaWarning: ERFA function \"taiutc\" yielded 10 of \"dubious year (Note 4)\" [astropy._erfa.core]\n",
      "WARNING: ErfaWarning: ERFA function \"taiutc\" yielded 207 of \"dubious year (Note 4)\" [astropy._erfa.core]\n",
      "WARNING: ErfaWarning: ERFA function \"taiutc\" yielded 306 of \"dubious year (Note 4)\" [astropy._erfa.core]\n",
      "WARNING: ErfaWarning: ERFA function \"taiutc\" yielded 371 of \"dubious year (Note 4)\" [astropy._erfa.core]\n",
      "WARNING: ErfaWarning: ERFA function \"taiutc\" yielded 404 of \"dubious year (Note 4)\" [astropy._erfa.core]\n",
      "WARNING: ErfaWarning: ERFA function \"taiutc\" yielded 436 of \"dubious year (Note 4)\" [astropy._erfa.core]\n"
     ]
    },
    {
     "name": "stdout",
     "output_type": "stream",
     "text": [
      "[[datetime.datetime(2019, 4, 9, 0, 0), datetime.datetime(2019, 11, 12, 0, 0)], [datetime.datetime(2020, 4, 9, 0, 0), datetime.datetime(2020, 6, 30, 0, 0)]]\n",
      "[[datetime.datetime(2019, 4, 2, 0, 0), datetime.datetime(2019, 10, 31, 0, 0)], [datetime.datetime(2020, 4, 1, 0, 0), datetime.datetime(2020, 6, 30, 0, 0)]]\n",
      "[[datetime.datetime(2019, 6, 2, 0, 0), datetime.datetime(2019, 7, 23, 0, 0)], [datetime.datetime(2019, 10, 25, 0, 0), datetime.datetime(2019, 12, 13, 0, 0)], [datetime.datetime(2020, 6, 1, 0, 0), datetime.datetime(2020, 6, 30, 0, 0)]]\n"
     ]
    }
   ],
   "source": [
    "from astroplan import EclipsingSystem\n",
    "from libra import trappist1, kepler296, kepler62, transit_duration\n",
    "import json\n",
    "\n",
    "for cycle in ['cycle0', 'cycle1']:\n",
    "    target_names = ['Kepler-296', 'Kepler-62', 'TRAPPIST-1']\n",
    "    target_paths = sorted(glob('../libra/data/apt/{0}/*visibility.txt'.format(cycle)))\n",
    "\n",
    "    for target, path in zip(target_names, target_paths):\n",
    "        raw_text = open(path).read().splitlines()\n",
    "        dates = [[d.strip() for d in row.split('\\t')[0].split('-')] for row in raw_text]\n",
    "        datetimes = [[datetime.strptime(d, '%d %b %Y') for d in row] for row in dates]\n",
    "\n",
    "        i = 0\n",
    "        milestone_dates = []\n",
    "        while i <= len(datetimes) - 1:\n",
    "            span = []\n",
    "            if i == 0: \n",
    "                milestone_dates.append(datetimes[i][0])\n",
    "            elif i == len(datetimes) - 1: \n",
    "                milestone_dates.append(datetimes[i][1])\n",
    "            elif datetimes[i][1] != datetimes[i+1][0]: \n",
    "                milestone_dates.append(datetimes[i][1])\n",
    "                milestone_dates.append(datetimes[i+1][0])\n",
    "            i +=1  \n",
    "\n",
    "        spans = []\n",
    "        for i in range(0, len(milestone_dates)-1, 2):\n",
    "            span = [milestone_dates[i], milestone_dates[i+1]]\n",
    "            spans.append(span)\n",
    "\n",
    "        print(spans)\n",
    "        np.savetxt(\"../libra/data/apt/{0}/{1}_observable.txt\".format(cycle, target), Time(spans).jd)\n",
    "\n",
    "    planet_letters = [list('bcdef'), list('bcdef'), list('bcdefgh')]\n",
    "    system_names = ['Kepler-296', 'Kepler-62', 'TRAPPIST-1']\n",
    "    system_functions = [kepler296, kepler62, trappist1]\n",
    "\n",
    "    observable_paths = glob(\"../libra/data/apt/{0}/*_observable.txt\".format(cycle))\n",
    "\n",
    "    eclipsing_systems = []\n",
    "\n",
    "    cycle_start = Time('2018-10-01')\n",
    "\n",
    "    n_observable_transits = {}\n",
    "\n",
    "    observable_transits = {}\n",
    "\n",
    "    for name, system, planets, path in zip(system_names, system_functions, \n",
    "                                           planet_letters, observable_paths):\n",
    "        for planet in planets: \n",
    "\n",
    "            parameters = system(planet)\n",
    "\n",
    "            es = EclipsingSystem(Time(parameters.t0, format='jd'), \n",
    "                                 parameters.per * u.day, \n",
    "                                 name=\"{0} {1}\".format(name, planet))\n",
    "\n",
    "            next_transits = es.next_primary_eclipse_time(cycle_start, n_eclipses=500)\n",
    "\n",
    "            observable_ranges = Time(np.loadtxt(path), format='jd')\n",
    "\n",
    "            observable_transit_times = []\n",
    "\n",
    "            for transit in next_transits:\n",
    "                for obs_range in observable_ranges: \n",
    "                    if (obs_range[0] < transit) and (obs_range[1] > transit): \n",
    "                        observable_transit_times.append(transit)\n",
    "\n",
    "            observable_transit_times = Time(observable_transit_times)\n",
    "            #print(observable_transit_times)\n",
    "\n",
    "            observable_transits[\"{0} {1}\".format(name, planet)] = observable_transit_times.jd.tolist()\n",
    "\n",
    "            n_observable_transits[\"{0} {1}\".format(name, planet)] = len(observable_transit_times)\n",
    "\n",
    "            #eclipsing_systems.append(es)\n",
    "\n",
    "    json.dump(observable_transits, open('../libra/data/apt/{0}/observable_transit_times.json'.format(cycle), 'w'), \n",
    "              sort_keys=True, indent=4)\n",
    "    json.dump(n_observable_transits, open('../libra/data/apt/{0}/n_observable_transits.json'.format(cycle), 'w'), \n",
    "              sort_keys=True, indent=4)"
   ]
  },
  {
   "cell_type": "code",
   "execution_count": 8,
   "metadata": {
    "collapsed": false,
    "deletable": true,
    "editable": true
   },
   "outputs": [],
   "source": []
  },
  {
   "cell_type": "code",
   "execution_count": null,
   "metadata": {
    "collapsed": true,
    "deletable": true,
    "editable": true
   },
   "outputs": [],
   "source": []
  }
 ],
 "metadata": {
  "kernelspec": {
   "display_name": "Python 3",
   "language": "python",
   "name": "python3"
  },
  "language_info": {
   "codemirror_mode": {
    "name": "ipython",
    "version": 3
   },
   "file_extension": ".py",
   "mimetype": "text/x-python",
   "name": "python",
   "nbconvert_exporter": "python",
   "pygments_lexer": "ipython3",
   "version": "3.5.4"
  }
 },
 "nbformat": 4,
 "nbformat_minor": 0
}
